{
 "cells": [
  {
   "attachments": {},
   "cell_type": "markdown",
   "metadata": {},
   "source": [
    "# **Lambda Function in Python**"
   ]
  },
  {
   "attachments": {},
   "cell_type": "markdown",
   "metadata": {},
   "source": [
    "A lambda function in Python is a small, anonymous function that can have any number of arguments, but can only have one expression. It is defined using the **lambda** keyword, followed by the arguments and the expression that the function will evaluate."
   ]
  },
  {
   "cell_type": "code",
   "execution_count": null,
   "metadata": {},
   "outputs": [],
   "source": []
  }
 ],
 "metadata": {
  "kernelspec": {
   "display_name": "Python 3",
   "language": "python",
   "name": "python3"
  },
  "language_info": {
   "name": "python",
   "version": "3.10.7"
  },
  "orig_nbformat": 4,
  "vscode": {
   "interpreter": {
    "hash": "d39aa46bdd4488d7b61f31574c0149215d818215e262d4130838f2f5046d0039"
   }
  }
 },
 "nbformat": 4,
 "nbformat_minor": 2
}
