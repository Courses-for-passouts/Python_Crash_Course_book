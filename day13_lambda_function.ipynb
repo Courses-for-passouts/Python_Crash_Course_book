{
 "cells": [
  {
   "attachments": {},
   "cell_type": "markdown",
   "metadata": {},
   "source": [
    "# **Lambda Function in Python**"
   ]
  },
  {
   "cell_type": "code",
   "execution_count": null,
   "metadata": {},
   "outputs": [],
   "source": []
  }
 ],
 "metadata": {
  "kernelspec": {
   "display_name": "cohere_env",
   "language": "python",
   "name": "python3"
  },
  "language_info": {
   "name": "python",
   "version": "3.9.16"
  },
  "orig_nbformat": 4,
  "vscode": {
   "interpreter": {
    "hash": "3ce14aaedc9d95732243d15f2b0850d020725e4569b95d52dff2fadb468284db"
   }
  }
 },
 "nbformat": 4,
 "nbformat_minor": 2
}
