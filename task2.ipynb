{
 "cells": [
  {
   "cell_type": "markdown",
   "id": "f6519aad",
   "metadata": {},
   "source": [
    "# User input"
   ]
  },
  {
   "attachments": {},
   "cell_type": "markdown",
   "id": "948191fe",
   "metadata": {},
   "source": [
    "1. Take a sentence input from user using input function. Count occurence of a particular character/word in the sentence and print the message that the character appear this many times in the sentence.\n",
    "Like if user inputs> \"My name is Sana. I am an undergraduate student. I am learning Artificial Intellegence in PIAIC\"\n",
    "\n",
    "\n",
    "Your output should be:\n",
    "    I appears 5 times in your sentence\n",
    "Hint: nahi batounga use string methods.\n",
    "Note: Sana is a boy. His full name is SanaUllah😄"
   ]
  },
  {
   "cell_type": "raw",
   "id": "956d6134",
   "metadata": {},
   "source": [
    "msg1 = input(\"What is your name? \")\n",
    "msg2 = print('my name is', msg1)"
   ]
  },
  {
   "cell_type": "raw",
   "id": "db49c871",
   "metadata": {},
   "source": [
    "msg1"
   ]
  },
  {
   "cell_type": "markdown",
   "id": "bf6c3672",
   "metadata": {},
   "source": [
    "2. Take a number input from user and print the square of that number. \n",
    "\n",
    "if a user inputs 10 Your output should be like:\n",
    "    The square of 10 is 100\n",
    "if a user inputs 5 Your output should be like:\n",
    "    The square of 5 is 25\n",
    "if a user inputs 2 Your output should be like:\n",
    "    The square of 2 is 4\n",
    "\n",
    "\n"
   ]
  },
  {
   "cell_type": "raw",
   "id": "574f57d8",
   "metadata": {},
   "source": [
    "number = input(\"put A NUMBER \")\n",
    "print(\"The square of\", number,\"is\",str(int(number)**2)) "
   ]
  },
  {
   "cell_type": "markdown",
   "id": "0da0f529",
   "metadata": {},
   "source": [
    "3. Take two inputs from user using two input functions add these two numbers and print the result.\n",
    "For example if a user inputs 10 in first input, 20 in second input then your output mustbe like:\n",
    "    The sum of 10 and 20 is 30\n",
    "    \n",
    "For example if a user inputs 12 in first input, 30 in second input then your output mustbe like:\n",
    "    The sum of 12 and 30 is 42\n",
    "\n",
    "For example if a user inputs 100 in first input, 200 in second input then your out put mustbe like:\n",
    "    The sum of 100 and 200 is 300"
   ]
  },
  {
   "cell_type": "raw",
   "id": "42357bdd",
   "metadata": {},
   "source": [
    "number1 = input (\"put 1st number \")\n",
    "number2= input(\"put 2nd number \" )\n",
    "print(\"The sum of\", number1,\"and\", number2,\"is\",str(int(number1)+int(number2)))"
   ]
  },
  {
   "cell_type": "markdown",
   "id": "f957eb50",
   "metadata": {},
   "source": [
    "4. Format a string to display a card like string:\n",
    "    \n",
    "            Presidential Initiative for AI & Computing\n",
    "                          ID CARD\n",
    "            Student Name   : Asad Ali\n",
    "            Father Name    : Amjad Ali\n",
    "            Date of Birth  : 01-01-2000\n",
    "            Course Enrolled: Artificial Intelligence\n",
    "            Batch          : 2022\n",
    "            Day            : Saturday \n",
    "            Centre         : Sir Syed University of Engg and Technology\n",
    "                \n",
    "Note: all the field values must be taken as user inputs and stored in variable"
   ]
  },
  {
   "cell_type": "markdown",
   "id": "ebc0e34a",
   "metadata": {},
   "source": []
  },
  {
   "cell_type": "code",
   "execution_count": 1,
   "id": "0f2d4d2d",
   "metadata": {},
   "outputs": [],
   "source": [
    "institute_name = input(\"Where do u study? \")\n",
    "print(\"\\t\\t\\t\",institute_name.title())\n",
    "print(\"\\n\")\n",
    "id = input(\"What's the card you are applying for ?\")\n",
    "print(\"\\t\\t\\t\\t\\t\\t\" + id.upper())\n",
    "print(\"\\n\")\n",
    "name = input(\"What's your name? \")\n",
    "print(\"\\t\\t\\tStudent Name\\t:\\t\" + name.title())\n",
    "print(\"\\n\")\n",
    "father = input(\"What is your father name ?\")\n",
    "print(\"\\t\\t\\tStudent Name\\t:\\t\" + father.title())\n",
    "print(\"\\n\")\n",
    "dob = input(\"What is ur date of birth? \")\n",
    "print(\"\\t\\t\\tDate of birth\\t:\\t\" + dob.strftime())\n",
    "print(\"\\n\")\n",
    "course_name = input(\"What course you are enrolled in ? \")\n",
    "print(\"\\t\\t\\tCourse Enrolled:\\t\" + course_name.title())\n",
    "print(\"\\n\")\n",
    "batch = input(\"What is your batch in the course? \")\n",
    "print(\"Batch\\t\\t:\\t\" + int(batch))\n",
    "print(\"\\n\")\n",
    "day = input(\"Please write the day of week when you attend the class \")\n",
    "print(\"\\t\\t\\tDay\\t\\t:\\t\" + day.title())\n",
    "print(\"\\n\")\n",
    "time = input(\"Please write the Centre name where you attend the class \")\n",
    "print(\"\\t\\t\\tCentre\\t\\t:\\t\" + time.title())"
   ]
  },
  {
   "cell_type": "code",
   "execution_count": null,
   "id": "567e7848",
   "metadata": {},
   "outputs": [],
   "source": []
  }
 ],
 "metadata": {
  "kernelspec": {
   "display_name": "Python 3",
   "language": "python",
   "name": "python3"
  },
  "language_info": {
   "codemirror_mode": {
    "name": "ipython",
    "version": 3
   },
   "file_extension": ".py",
   "mimetype": "text/x-python",
   "name": "python",
   "nbconvert_exporter": "python",
   "pygments_lexer": "ipython3",
   "version": "3.11.1"
  },
  "vscode": {
   "interpreter": {
    "hash": "1a1af0ee75eeea9e2e1ee996c87e7a2b11a0bebd85af04bb136d915cefc0abce"
   }
  }
 },
 "nbformat": 4,
 "nbformat_minor": 5
}
