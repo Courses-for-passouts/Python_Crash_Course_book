{
 "cells": [
  {
   "attachments": {},
   "cell_type": "markdown",
   "metadata": {},
   "source": [
    "# Algorithm Building"
   ]
  },
  {
   "cell_type": "code",
   "execution_count": 1,
   "metadata": {},
   "outputs": [
    {
     "name": "stdout",
     "output_type": "stream",
     "text": [
      "Not a perfect cube\n"
     ]
    }
   ],
   "source": [
    "x= 9\n",
    "if type(x) == int or type(x) == float:\n",
    "    if type(x**1/3) == int:\n",
    "        print(x**1/3)\n",
    "    else:\n",
    "        print(\"Not a perfect cube\")\n",
    "        \n",
    "    \n",
    "    \n",
    "     "
   ]
  },
  {
   "attachments": {},
   "cell_type": "markdown",
   "metadata": {},
   "source": [
    " Write a program that asks the user to enter an integer and prints two integers, root and power, such that 1 < power < 6 and root**power is equal to the integer entered by the user. If no such \n",
    " pair of integers exists, it should print a message to that effect."
   ]
  },
  {
   "cell_type": "code",
   "execution_count": 5,
   "metadata": {},
   "outputs": [
    {
     "name": "stdout",
     "output_type": "stream",
     "text": [
      "No such integer pair exists for x = 7\n"
     ]
    }
   ],
   "source": [
    "x = int(input(\"Enter an integer: \"))\n",
    "for power in range(2, 6):\n",
    "    for root in range(1, x):\n",
    "        if root**power == x:\n",
    "            print(f\"{root} ** {power} = {x}\")\n",
    "            break\n",
    "    else:\n",
    "        continue\n",
    "    break\n",
    "else:\n",
    "    print(f\"No such integer pair exists for x = {x}\")\n"
   ]
  },
  {
   "cell_type": "code",
   "execution_count": null,
   "metadata": {},
   "outputs": [],
   "source": [
    "num = int(input(\"Enter number: \"))\n",
    "root = num**0.5\n",
    "for pwr in range(2,6):\n",
    "    root = round(root**pwr)\n",
    "    if root == num:\n",
    "        print(num, root)\n",
    "        break\n",
    "else:\n",
    "    print(\"Number does not satisfy the condition\")"
   ]
  }
 ],
 "metadata": {
  "kernelspec": {
   "display_name": "Python 3",
   "language": "python",
   "name": "python3"
  },
  "language_info": {
   "codemirror_mode": {
    "name": "ipython",
    "version": 3
   },
   "file_extension": ".py",
   "mimetype": "text/x-python",
   "name": "python",
   "nbconvert_exporter": "python",
   "pygments_lexer": "ipython3",
   "version": "3.10.7"
  },
  "orig_nbformat": 4,
  "vscode": {
   "interpreter": {
    "hash": "d39aa46bdd4488d7b61f31574c0149215d818215e262d4130838f2f5046d0039"
   }
  }
 },
 "nbformat": 4,
 "nbformat_minor": 2
}
