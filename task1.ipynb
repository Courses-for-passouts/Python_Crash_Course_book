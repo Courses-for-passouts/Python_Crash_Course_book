{
 "cells": [
  {
   "cell_type": "markdown",
   "metadata": {},
   "source": [
    "# Topic: print()"
   ]
  },
  {
   "cell_type": "markdown",
   "metadata": {},
   "source": [
    "1) Using the python print function print any string value, integer value, boolean value, float value in single print command"
   ]
  },
  {
   "cell_type": "code",
   "execution_count": 6,
   "metadata": {},
   "outputs": [
    {
     "name": "stdout",
     "output_type": "stream",
     "text": [
      "Hi, What is your age? I am 22.0 years old and I have just completed 2 years of my graduation. I know that this statement is not correct.False\n"
     ]
    }
   ],
   "source": [
    "age = 44/2\n",
    "print(\"Hi, What is your age?\"+\" \"+\"I am \"+str(age)+\" \"+\"years old and I have just completed \"+str(2)+\" \"+\"years of my graduation. I know that this statement is not correct.\"+str(3>5))"
   ]
  },
  {
   "cell_type": "markdown",
   "metadata": {},
   "source": [
    "2) Using the python print function print hyphon(-) separated any string value, integer value, boolean value, float value in single print command"
   ]
  },
  {
   "cell_type": "code",
   "execution_count": 22,
   "metadata": {},
   "outputs": [
    {
     "name": "stdout",
     "output_type": "stream",
     "text": [
      "Hi How are you? What are you doing in this cold weather of 22.0 oF?  Do I think it is True ? \n"
     ]
    }
   ],
   "source": [
    "print(f\"Hi How are you? What are you doing in this cold weather of {str(age/1)} oF?  Do I think it is {63>age} ? \") "
   ]
  },
  {
   "cell_type": "markdown",
   "metadata": {},
   "source": [
    "3) Using the python print function print any string value, integer value, boolean value, float value in separate print command.\n",
    "But every value must be space separated and in single line "
   ]
  },
  {
   "cell_type": "code",
   "execution_count": 53,
   "metadata": {},
   "outputs": [
    {
     "name": "stdout",
     "output_type": "stream",
     "text": [
      "Hi, Have you bought new headphone sony xm 5 in 300.0 euros.  No The things you are saying are False "
     ]
    },
    {
     "data": {
      "text/plain": [
       "(None, None, None, None)"
      ]
     },
     "execution_count": 53,
     "metadata": {},
     "output_type": "execute_result"
    }
   ],
   "source": [
    "print(\"Hi,\",end=\" \"), print(\"Have you bought new headphone sony xm\"+\" \"+str(5),end=\" \"),print(\"in \"+str(600/2) +\" euros. \",end=\" \"),print(\"No The things you are saying are \"+str(1>2),end=\" \")"
   ]
  },
  {
   "cell_type": "markdown",
   "metadata": {},
   "source": [
    "4) Can a python print function take no value to print???"
   ]
  },
  {
   "cell_type": "code",
   "execution_count": 54,
   "metadata": {},
   "outputs": [
    {
     "name": "stdout",
     "output_type": "stream",
     "text": [
      "\n"
     ]
    }
   ],
   "source": [
    "print()"
   ]
  },
  {
   "cell_type": "markdown",
   "metadata": {},
   "source": [
    "# TOPIC :Variables in Python Operators"
   ]
  },
  {
   "cell_type": "markdown",
   "metadata": {},
   "source": [
    "5) One of my friends name is Mr. Ahmed. He is 30 years old.  He is a lawer by profession. He has done his bachelors in law in the year 2005. He is working with a reputable law firm 'The Himalya Associates' in Karachi since 2015.\n",
    "He is a handsome lawer with height of 5.10 feets and weight 70600g. His monthly income is Rs. 200k PKR.\n",
    "\n",
    "Note: Create variables from above text and also assign values from the text.  "
   ]
  },
  {
   "cell_type": "code",
   "execution_count": null,
   "metadata": {},
   "outputs": [],
   "source": [
    "#type your code here\n"
   ]
  },
  {
   "cell_type": "markdown",
   "metadata": {},
   "source": [
    "6)How many years has been to Mr. Ahmed after his bachelors degree? Create a variable that hold current year value and then subtract it from his passout year"
   ]
  },
  {
   "cell_type": "code",
   "execution_count": null,
   "metadata": {},
   "outputs": [],
   "source": [
    "#type your code here \n"
   ]
  },
  {
   "cell_type": "markdown",
   "metadata": {},
   "source": [
    "7) How many years has Mr. Ahmed been working with law firm 'The Himalya Associates'. Create necesary variables and print the correct number of years in working in the firm"
   ]
  },
  {
   "cell_type": "code",
   "execution_count": null,
   "metadata": {},
   "outputs": [],
   "source": [
    "#type your code here \n"
   ]
  },
  {
   "cell_type": "markdown",
   "metadata": {},
   "source": [
    "8)Convert the monthly income of Mr. Ahmed in dollars.  Create necesary variables and print the income in dollars."
   ]
  },
  {
   "cell_type": "code",
   "execution_count": null,
   "metadata": {},
   "outputs": [],
   "source": [
    "#type your code here \n"
   ]
  },
  {
   "cell_type": "markdown",
   "metadata": {},
   "source": [
    "9) Check if the income in dollars is a float or integer value. if it is float, re-write the code so that income gets converted in integer. print the income in integer type value"
   ]
  },
  {
   "cell_type": "code",
   "execution_count": null,
   "metadata": {},
   "outputs": [],
   "source": [
    "#type your code here \n"
   ]
  },
  {
   "cell_type": "raw",
   "metadata": {},
   "source": [
    "10) Print the type of Mr. Ahmed's weight. Convert the weight of Mr. Ahmed in kg so that weight must be a integer value. "
   ]
  },
  {
   "cell_type": "code",
   "execution_count": null,
   "metadata": {},
   "outputs": [],
   "source": [
    "#type your code here \n"
   ]
  },
  {
   "cell_type": "raw",
   "metadata": {},
   "source": [
    "11) print the year of birth of Mr. Ahmed."
   ]
  },
  {
   "cell_type": "code",
   "execution_count": null,
   "metadata": {},
   "outputs": [],
   "source": [
    "#type your code here\n"
   ]
  },
  {
   "cell_type": "markdown",
   "metadata": {},
   "source": [
    "12) Can Rs. 100 be divided equally among 6 students? \n",
    "HINT: % operator"
   ]
  },
  {
   "cell_type": "code",
   "execution_count": null,
   "metadata": {},
   "outputs": [],
   "source": [
    "#type your code here \n"
   ]
  }
 ],
 "metadata": {
  "kernelspec": {
   "display_name": "Python 3",
   "language": "python",
   "name": "python3"
  },
  "language_info": {
   "codemirror_mode": {
    "name": "ipython",
    "version": 3
   },
   "file_extension": ".py",
   "mimetype": "text/x-python",
   "name": "python",
   "nbconvert_exporter": "python",
   "pygments_lexer": "ipython3",
   "version": "3.11.1"
  },
  "vscode": {
   "interpreter": {
    "hash": "1a1af0ee75eeea9e2e1ee996c87e7a2b11a0bebd85af04bb136d915cefc0abce"
   }
  }
 },
 "nbformat": 4,
 "nbformat_minor": 2
}
