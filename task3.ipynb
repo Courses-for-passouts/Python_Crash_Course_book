{
 "cells": [
  {
   "cell_type": "markdown",
   "metadata": {
    "id": "8rksu2_jMVjQ"
   },
   "source": [
    "1) A company decided to give bonus of 5% to employee if his/her year of service is more than 5 years.\n",
    "Ask user for their salary and year of service and print the net bonus amount."
   ]
  },
  {
   "cell_type": "code",
   "execution_count": 1,
   "metadata": {
    "id": "_GRPHPiLMVjX"
   },
   "outputs": [
    {
     "name": "stdout",
     "output_type": "stream",
     "text": [
      "Your bonus is 500.0\n"
     ]
    }
   ],
   "source": [
    "salary = input(\"What's your salary?\")\n",
    "salary = int(salary)\n",
    "service = input(\"What's your service in years? \")\n",
    "service = int(service)\n",
    "\n",
    "if service >= 5:\n",
    "    bonus = salary * 5 / 100\n",
    "    print(\"Your bonus is\", bonus)"
   ]
  },
  {
   "cell_type": "markdown",
   "metadata": {
    "id": "iXt5RVcjMVja"
   },
   "source": [
    "\n",
    "2) Write a program to check whether a person is eligible for voting or not. (accept age from user)"
   ]
  },
  {
   "cell_type": "code",
   "execution_count": 2,
   "metadata": {
    "id": "jXVCvia3MVjh"
   },
   "outputs": [
    {
     "name": "stdout",
     "output_type": "stream",
     "text": [
      "You can't vote\n"
     ]
    }
   ],
   "source": [
    "age = input(\"What's your age?\")\n",
    "age = int(age)\n",
    "if age >= 18:\n",
    "    print(\"You can vote\")\n",
    "else:\n",
    "    print(\"You can't vote\")\n"
   ]
  },
  {
   "cell_type": "markdown",
   "metadata": {
    "id": "IkNM7QpCMVjj"
   },
   "source": [
    "\n",
    "3) Write a program to check whether a number entered by user is even or odd."
   ]
  },
  {
   "cell_type": "code",
   "execution_count": 3,
   "metadata": {
    "id": "-GxviwByMVjl"
   },
   "outputs": [
    {
     "name": "stdout",
     "output_type": "stream",
     "text": [
      "Odd\n"
     ]
    }
   ],
   "source": [
    "number = input(\"Enter a number: \")\n",
    "number = int(number)\n",
    "if number % 2 == 0:\n",
    "    print(\"Even\")\n",
    "else:\n",
    "    print(\"Odd\")"
   ]
  },
  {
   "cell_type": "markdown",
   "metadata": {
    "id": "_jEHjkfdMVjm"
   },
   "source": [
    "4) Write a program to check whether a number is divisible by 7 or not.\n",
    "Show Answer"
   ]
  },
  {
   "cell_type": "code",
   "execution_count": 5,
   "metadata": {
    "id": "IRNXyG1GMVjo"
   },
   "outputs": [
    {
     "name": "stdout",
     "output_type": "stream",
     "text": [
      "Not divisible by 7\n"
     ]
    }
   ],
   "source": [
    "number = input(\"Enter a number: \")\n",
    "number = int(number)\n",
    "if number % 7 == 0:\n",
    "    print(\"Divisible by 7\")\n",
    "else:\n",
    "    print(\"Not divisible by 7\")\n"
   ]
  },
  {
   "cell_type": "markdown",
   "metadata": {
    "id": "XxfyVe4kMVjp"
   },
   "source": [
    "5) Write a program to display \n",
    "\"Hello\" if a number entered by user is a multiple of five , otherwise print \"Bye\"."
   ]
  },
  {
   "cell_type": "code",
   "execution_count": 6,
   "metadata": {
    "id": "Ixnz4R4TMVjr"
   },
   "outputs": [
    {
     "name": "stdout",
     "output_type": "stream",
     "text": [
      "Bye\n"
     ]
    }
   ],
   "source": [
    "number = input(\"Enter a number: \")\n",
    "number = int(number)\n",
    "if number % 5 == 0:\n",
    "    print(\"Hello\")\n",
    "else:\n",
    "    print(\"Bye\")"
   ]
  },
  {
   "cell_type": "markdown",
   "metadata": {
    "id": "qfzRUUwOMVjs"
   },
   "source": [
    "6) Write a program to calculate the electricity bill (accept number of unit from user) according to the following criteria :\n",
    "     Unit                                                     Price  \n",
    "uptp 100 units                                             no charge\n",
    "Next 200 units                                              Rs 5 per unit\n",
    "After 200 units                                             Rs 10 per unit\n",
    "(For example if input unit is 350 than total bill amount is Rs.2000\n",
    "(For example if input unit is 97 than total bill amount is Rs.0\n",
    "(For example if input unit is 150 than total bill amount is Rs.250"
   ]
  },
  {
   "cell_type": "code",
   "execution_count": 14,
   "metadata": {
    "id": "1BY1oAIpMVju"
   },
   "outputs": [
    {
     "name": "stdout",
     "output_type": "stream",
     "text": [
      "Your bill is Rs. 2000\n"
     ]
    }
   ],
   "source": [
    "number = input(\"Enter your electricity units : \")\n",
    "number = int(number)    \n",
    "if number <= 100:\n",
    "    print(\"Your bill is Rs.\",0)\n",
    "else:\n",
    "    if number <= 200:\n",
    "        number = number - 100\n",
    "        print(\"Your bill is Rs.\",number*5)\n",
    "    else:\n",
    "        if number > 200:\n",
    "            number = number - 200\n",
    "            number = number*10\n",
    "            number = number + 100*5\n",
    "            print(\"Your bill is Rs.\",number)\n",
    "\n"
   ]
  },
  {
   "cell_type": "markdown",
   "metadata": {
    "id": "msAIDMRDMVjv"
   },
   "source": [
    "7) Write a program to display the last digit of a number.\n"
   ]
  },
  {
   "cell_type": "raw",
   "metadata": {},
   "source": [
    "number = 200\n",
    "last_digit = number % 10\n",
    "last_digit"
   ]
  },
  {
   "cell_type": "markdown",
   "metadata": {
    "id": "UeLHzVZ_MVjw"
   },
   "source": [
    "\n",
    "Q8. Write a program to check whether the last digit of a number( entered by user ) is \n",
    "divisible by 3 or not."
   ]
  },
  {
   "cell_type": "code",
   "execution_count": 18,
   "metadata": {
    "id": "KiQ5wnc6MVjx"
   },
   "outputs": [
    {
     "name": "stdout",
     "output_type": "stream",
     "text": [
      "Last digit is not divisible by 3\n"
     ]
    }
   ],
   "source": [
    "number = input(\"Please enter a number \")\n",
    "\n",
    "number = int(number)\n",
    "last_digit = number % 10\n",
    "if last_digit % 3==0:\n",
    "    print(\"Last digit is divisible by 3\")\n",
    "else:\n",
    "    print(\"Last digit is not divisible by 3\")"
   ]
  },
  {
   "cell_type": "markdown",
   "metadata": {
    "id": "CR4sMmRgMVjy"
   },
   "source": [
    "9) Take values of length and breadth of a rectangle from user and check if it is square or not."
   ]
  },
  {
   "cell_type": "code",
   "execution_count": 19,
   "metadata": {
    "id": "Oj1MT5fCMVjy"
   },
   "outputs": [
    {
     "name": "stdout",
     "output_type": "stream",
     "text": [
      "It's a rectangle\n"
     ]
    }
   ],
   "source": [
    "number = input(\"Please enter lenegth of rectangle \")\n",
    "number = int(number)\n",
    "number1 = input(\"Please enter width of rectangle \")\n",
    "number1 = int(number1)\n",
    "if number == number1:\n",
    "    print(\"It's a square\")\n",
    "else:\n",
    "    print(\"It's a rectangle\")"
   ]
  },
  {
   "cell_type": "markdown",
   "metadata": {
    "id": "B2e5VYbiMVjz"
   },
   "source": [
    "10) Take two int values from user and print greatest among them."
   ]
  },
  {
   "cell_type": "code",
   "execution_count": 20,
   "metadata": {
    "id": "LyYYL78HMVj0"
   },
   "outputs": [
    {
     "name": "stdout",
     "output_type": "stream",
     "text": [
      "Second number is greater than the first\n"
     ]
    }
   ],
   "source": [
    "number = input(\"Please enter a number \")\n",
    "number = int(number)\n",
    "number1 = input(\"Please enter a 2nd number \")\n",
    "number1 = int(number1)\n",
    "if number > number1:\n",
    "    print(\"First number is greater than the second\")\n",
    "else:\n",
    "    print(\"Second number is greater than the first\")\n",
    "\n"
   ]
  },
  {
   "cell_type": "markdown",
   "metadata": {
    "id": "R9gMEjdQMVj1"
   },
   "source": [
    "11) A shop will give discount of 10% if the cost of purchased quantity is more than 1000.\n",
    "Ask user for quantity\n",
    "Suppose, one unit will cost 100.\n",
    "Judge and print total cost for user."
   ]
  },
  {
   "cell_type": "code",
   "execution_count": 22,
   "metadata": {
    "id": "hjvEnOzxMVj2"
   },
   "outputs": [
    {
     "name": "stdout",
     "output_type": "stream",
     "text": [
      "Total cost is 132200 but you will get 10% discount\n",
      "Your total amount is Rs. 118980.0\n"
     ]
    }
   ],
   "source": [
    "number = input(\"Please enter the number of units you want to purcahse \")\n",
    "number = int(number)\n",
    "if number > 1000:\n",
    "    \n",
    "    cost_of_one_unit = 100\n",
    "    total_cost = number*cost_of_one_unit\n",
    "    print(\"Total cost is\",total_cost,\"but you will get 10% discount\")\n",
    "    discount = total_cost*0.1\n",
    "    total_cost = total_cost - discount\n",
    "    print(\"Your total amount is Rs.\",total_cost)\n"
   ]
  },
  {
   "cell_type": "markdown",
   "metadata": {
    "id": "yqYL7FZeMVj3"
   },
   "source": [
    "12) A school has following rules for grading system:\n",
    "\n",
    "a. Below 25 - F\n",
    "\n",
    "b. 25 to 45 - E\n",
    "\n",
    "c. 45 to 50 - D\n",
    "\n",
    "d. 50 to 60 - C\n",
    "\n",
    "e. 60 to 80 - B\n",
    "\n",
    "f. Above 80 - A\n",
    "\n",
    "Ask user to enter marks and print the corresponding grade."
   ]
  },
  {
   "cell_type": "code",
   "execution_count": 27,
   "metadata": {
    "id": "he_r-bpOMVj4"
   },
   "outputs": [
    {
     "name": "stdout",
     "output_type": "stream",
     "text": [
      "You got A\n"
     ]
    }
   ],
   "source": [
    "number = input(\"Please enter the marks you got \")\n",
    "number = int(number)\n",
    "if number >= 80:\n",
    "    print(\"You got A\")\n",
    "else:\n",
    "    if number >= 60:\n",
    "        print(\"You got B\")\n",
    "    else:\n",
    "        if number >= 50:\n",
    "            print(\"You got C\")\n",
    "        else:\n",
    "            if number >= 45:\n",
    "                print(\"You got D\")\n",
    "            else:\n",
    "                if number >= 25:\n",
    "                    print(\"You got E\")\n",
    "                else:\n",
    "                    print(\"You got F\")"
   ]
  },
  {
   "cell_type": "markdown",
   "metadata": {
    "id": "IUJjt9NbMVj4"
   },
   "source": [
    "13) Take input of age of 3 people by user and determine oldest and youngest among them."
   ]
  },
  {
   "cell_type": "code",
   "execution_count": 28,
   "metadata": {
    "id": "vlre5Ck0MVj4"
   },
   "outputs": [
    {
     "name": "stdout",
     "output_type": "stream",
     "text": [
      "Your father is older than you and your friend\n"
     ]
    }
   ],
   "source": [
    "age1 = input(\"What's your age? \")\n",
    "age1 = int(age1)\n",
    "age2 = input(\"What's your friend's age? \")\n",
    "age2 = int(age2)\n",
    "age3= input(\"What's your father's age? \")\n",
    "age3 = int(age3)\n",
    "\n",
    "if age1 > age2 and age1 > age3: \n",
    "    print(\"You are older than your friend and father\")\n",
    "else:\n",
    "    if age2 > age1 and age2 > age3:\n",
    "        print(\"Your friend is older than you and your father\")\n",
    "    else:\n",
    "        if age3 > age1 and age3 > age2:\n",
    "            print(\"Your father is older than you and your friend\")"
   ]
  },
  {
   "cell_type": "markdown",
   "metadata": {
    "id": "Zc9ovDhsMVj5"
   },
   "source": [
    "14)A student will not be allowed to sit in exam if his/her attendence is less than 75%.\n",
    "\n",
    "Take following input from user\n",
    "\n",
    "Number of classes held\n",
    "\n",
    "Number of classes attended.\n",
    "\n",
    "And print\n",
    "\n",
    "percentage of class attended\n",
    "\n",
    "Is student is allowed to sit in exam or not.\n"
   ]
  },
  {
   "cell_type": "code",
   "execution_count": 30,
   "metadata": {
    "id": "rseYum2_MVj6"
   },
   "outputs": [
    {
     "name": "stdout",
     "output_type": "stream",
     "text": [
      "Percentage of classes attended by you 65.71428571428571\n",
      "You can't sit in the exam\n"
     ]
    }
   ],
   "source": [
    "classes = input(\"How many classes you attended? \")\n",
    "classes = int(classes)\n",
    "total_classes = input(\"How many classes are there in total? \")\n",
    "total_classes = int(total_classes)\n",
    "attendance_percentage = classes/total_classes*100\n",
    "print(\"Percentage of classes attended by you\", attendance_percentage)\n",
    "if attendance_percentage >= 75:\n",
    "    print(\"You can sit in the exam\")\n",
    "else:\n",
    "    print(\"You can't sit in the exam\")"
   ]
  },
  {
   "cell_type": "markdown",
   "metadata": {
    "id": "58UPPHAOMVj6"
   },
   "source": [
    "15) Modify the above question to allow student to sit if he/she has medical cause. Ask user if he/she has medical cause or not ( 'Y' or 'N' ) and print accordingly."
   ]
  },
  {
   "cell_type": "code",
   "execution_count": 31,
   "metadata": {
    "id": "lDi-xLzTMVj7"
   },
   "outputs": [
    {
     "name": "stdout",
     "output_type": "stream",
     "text": [
      "Percentage of classes attended by you 73.91304347826086\n",
      "Did you have a medical emergency?\n",
      "You can't sit in the exam\n"
     ]
    }
   ],
   "source": [
    "classes = input(\"How many classes you attended? \")\n",
    "classes = int(classes)\n",
    "total_classes = input(\"How many classes are there in total? \")\n",
    "total_classes = int(total_classes)\n",
    "attendance_percentage = classes/total_classes*100\n",
    "print(\"Percentage of classes attended by you\", attendance_percentage)\n",
    "print(\"Did you have a medical emergency?\")\n",
    "medical_emmergency = input(\"Yes or No? write Y for yest and N for no\")\n",
    "if medical_emmergency == \"Yes\":\n",
    "    print(\"You can sit in the exam\")\n",
    "else:\n",
    "    print(\"You can't sit in the exam\")"
   ]
  },
  {
   "cell_type": "markdown",
   "metadata": {
    "id": "kJtSy1EoMVj7"
   },
   "source": [
    "16) Write a program to check if a year is leap year or not.\n",
    "\n",
    "If a year is divisible by 4 then it is leap year but if the year is century year like 2000, 1900, 2100 then it must be divisible by 400."
   ]
  },
  {
   "cell_type": "code",
   "execution_count": 34,
   "metadata": {
    "id": "QUL_YUX3MVj7"
   },
   "outputs": [
    {
     "name": "stdout",
     "output_type": "stream",
     "text": [
      "It's a leap year\n"
     ]
    }
   ],
   "source": [
    "Curent_year = 2023\n",
    "your_year = input(\"Write the year you want to check if it is leap year? \")\n",
    "your_year = int(your_year)\n",
    "if your_year % 4 ==0:\n",
    "    print(\"It's a leap year\")\n",
    "else:\n",
    "    print(\"It's not a leap year\")"
   ]
  },
  {
   "cell_type": "markdown",
   "metadata": {
    "id": "CCNg4yDDMVj8"
   },
   "source": [
    "17) Ask user to enter age, gender ( M or F ), marital status ( Y or N ) and then using following rules print their place of service.\n",
    "\n",
    "if employee is female, then she will work only in urban areas.\n",
    "\n",
    "if employee is a male and age is in between 20 to 40 then he may work in anywhere\n",
    "\n",
    "if employee is male and age is in between 40 t0 60 then he will work in urban areas only.\n",
    "\n",
    "And any other input of age should print \"ERROR\""
   ]
  },
  {
   "cell_type": "code",
   "execution_count": 38,
   "metadata": {
    "id": "RDWMB0CZMVj8"
   },
   "outputs": [
    {
     "name": "stdout",
     "output_type": "stream",
     "text": [
      "ERROR\n"
     ]
    }
   ],
   "source": [
    "#Type your code here\n",
    "age = input(\"What's your age? \")\n",
    "age = int(age)\n",
    "gender = input(\"Write your gender- F for female and M for male \")\n",
    "martial = input(\"What your martial status ? Write S for single and M for married \")\n",
    "\n",
    "if gender=='F':\n",
    "    print(\"Yu will work in urban areas only\")\n",
    "else:\n",
    "    if gender=='M' and age>=20 and age<=40:\n",
    "        print(\"You may work anywhere\")\n",
    "    else:\n",
    "        if gender=='M' and age >40 and age <60:\n",
    "            print(\"You will work in urban areas only\")\n",
    "        else:\n",
    "            print(\"ERROR\")"
   ]
  }
 ],
 "metadata": {
  "colab": {
   "name": "If then Else &Elif Practice Task .ipynb",
   "provenance": []
  },
  "kernelspec": {
   "display_name": "Python 3",
   "language": "python",
   "name": "python3"
  },
  "language_info": {
   "codemirror_mode": {
    "name": "ipython",
    "version": 3
   },
   "file_extension": ".py",
   "mimetype": "text/x-python",
   "name": "python",
   "nbconvert_exporter": "python",
   "pygments_lexer": "ipython3",
   "version": "3.11.1"
  },
  "vscode": {
   "interpreter": {
    "hash": "1a1af0ee75eeea9e2e1ee996c87e7a2b11a0bebd85af04bb136d915cefc0abce"
   }
  }
 },
 "nbformat": 4,
 "nbformat_minor": 1
}
