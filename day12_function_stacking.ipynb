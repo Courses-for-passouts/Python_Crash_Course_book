{
 "cells": [
  {
   "attachments": {},
   "cell_type": "markdown",
   "metadata": {},
   "source": [
    "# Function Stacking"
   ]
  },
  {
   "cell_type": "code",
   "execution_count": 3,
   "metadata": {},
   "outputs": [
    {
     "name": "stdout",
     "output_type": "stream",
     "text": [
      "x=  4\n",
      "z=  4\n",
      "x=  abc\n",
      "x=  4\n",
      "x=  3\n",
      "z=  <function f.<locals>.g at 0x00000269374E0430>\n",
      "x=  abc\n"
     ]
    }
   ],
   "source": [
    "def f(x):\n",
    "    \n",
    "    def g():\n",
    "        x ='abc'\n",
    "        print(\"x= \", x)\n",
    "        \n",
    "    def h():\n",
    "        z = x\n",
    "        print(\"z= \", z)\n",
    "    \n",
    "    x = x + 1\n",
    "    print(\"x= \", x)\n",
    "    \n",
    "    h()\n",
    "    g()\n",
    "    \n",
    "    print(\"x= \", x)\n",
    "    \n",
    "    return g\n",
    "\n",
    "x =3\n",
    "z =f(x)\n",
    "\n",
    "print(\"x= \", x)\n",
    "print(\"z= \", z)\n",
    "\n",
    "z()"
   ]
  }
 ],
 "metadata": {
  "kernelspec": {
   "display_name": "Python 3",
   "language": "python",
   "name": "python3"
  },
  "language_info": {
   "codemirror_mode": {
    "name": "ipython",
    "version": 3
   },
   "file_extension": ".py",
   "mimetype": "text/x-python",
   "name": "python",
   "nbconvert_exporter": "python",
   "pygments_lexer": "ipython3",
   "version": "3.10.7"
  },
  "orig_nbformat": 4,
  "vscode": {
   "interpreter": {
    "hash": "d39aa46bdd4488d7b61f31574c0149215d818215e262d4130838f2f5046d0039"
   }
  }
 },
 "nbformat": 4,
 "nbformat_minor": 2
}
